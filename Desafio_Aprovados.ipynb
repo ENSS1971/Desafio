{
 "cells": [
  {
   "cell_type": "code",
   "execution_count": 1,
   "id": "5709c6ea-d902-491d-b3f9-9b1d845bab0e",
   "metadata": {},
   "outputs": [],
   "source": [
    "#Importando os pacotes das bibliotecas\n",
    "import pandas as pd\n",
    "import numpy as np"
   ]
  },
  {
   "cell_type": "code",
   "execution_count": 2,
   "id": "b9b00ac3-1bf5-4c9f-ae0a-af22a9b7ff3f",
   "metadata": {},
   "outputs": [
    {
     "data": {
      "text/html": [
       "<div>\n",
       "<style scoped>\n",
       "    .dataframe tbody tr th:only-of-type {\n",
       "        vertical-align: middle;\n",
       "    }\n",
       "\n",
       "    .dataframe tbody tr th {\n",
       "        vertical-align: top;\n",
       "    }\n",
       "\n",
       "    .dataframe thead th {\n",
       "        text-align: right;\n",
       "    }\n",
       "</style>\n",
       "<table border=\"1\" class=\"dataframe\">\n",
       "  <thead>\n",
       "    <tr style=\"text-align: right;\">\n",
       "      <th></th>\n",
       "      <th>codigo_vaga</th>\n",
       "      <th>ultimo_salario_candidato</th>\n",
       "      <th>ultimo_cargo_candidato</th>\n",
       "      <th>area_interesse_candidato</th>\n",
       "      <th>nivel_candidato</th>\n",
       "      <th>formacao_candidato</th>\n",
       "      <th>cidade_candidato</th>\n",
       "      <th>nivel_ingles_candidato</th>\n",
       "      <th>nivel_espanhol_candidato</th>\n",
       "      <th>mediana_teste_ingles_candidato</th>\n",
       "      <th>mediana_teste_espanhol_candidato</th>\n",
       "      <th>mediana_teste_logica_candidato</th>\n",
       "      <th>mediana_teste_outros_candidato</th>\n",
       "      <th>cargo_vaga</th>\n",
       "      <th>nivel_vaga</th>\n",
       "      <th>formacao_vaga</th>\n",
       "      <th>cidade_vaga</th>\n",
       "      <th>aprovado_vaga</th>\n",
       "    </tr>\n",
       "  </thead>\n",
       "  <tbody>\n",
       "    <tr>\n",
       "      <th>4146</th>\n",
       "      <td>-5433147389500583028</td>\n",
       "      <td>0.0</td>\n",
       "      <td>INDUSTRIAL TRAINEE</td>\n",
       "      <td>ENGENHARIA QUIMICA</td>\n",
       "      <td>JUNIOR/TRAINEE</td>\n",
       "      <td>POS-GRADUACAO NO NIVEL ESPECIALIZACAO</td>\n",
       "      <td>SALVADOR</td>\n",
       "      <td>2.0</td>\n",
       "      <td>1.0</td>\n",
       "      <td>6.450</td>\n",
       "      <td>0.000</td>\n",
       "      <td>6.25</td>\n",
       "      <td>7.00</td>\n",
       "      <td>PROGRAMA TRAINEE</td>\n",
       "      <td>JUNIOR/TRAINEE</td>\n",
       "      <td>FORMACAO SUPERIOR (CURSANDO)</td>\n",
       "      <td>None</td>\n",
       "      <td>0</td>\n",
       "    </tr>\n",
       "    <tr>\n",
       "      <th>4147</th>\n",
       "      <td>-5433147389500583028</td>\n",
       "      <td>1500.0</td>\n",
       "      <td>DESENVOLVIMENTO ENGENHEIRO PRO</td>\n",
       "      <td>ADMINISTRACAO DE EMPRESAS</td>\n",
       "      <td>JUNIOR/TRAINEE</td>\n",
       "      <td>FORMACAO SUPERIOR COMPLETA</td>\n",
       "      <td>SAO PAULO</td>\n",
       "      <td>4.0</td>\n",
       "      <td>1.0</td>\n",
       "      <td>8.000</td>\n",
       "      <td>0.000</td>\n",
       "      <td>7.99</td>\n",
       "      <td>8.20</td>\n",
       "      <td>PROGRAMA TRAINEE</td>\n",
       "      <td>JUNIOR/TRAINEE</td>\n",
       "      <td>FORMACAO SUPERIOR (CURSANDO)</td>\n",
       "      <td>None</td>\n",
       "      <td>0</td>\n",
       "    </tr>\n",
       "    <tr>\n",
       "      <th>4148</th>\n",
       "      <td>-5433147389500583028</td>\n",
       "      <td>2050.0</td>\n",
       "      <td>CLIENTE ESTAGIO QUALIDADE</td>\n",
       "      <td>ENGENHARIA DE PRODUCAO</td>\n",
       "      <td>ESTAGIO</td>\n",
       "      <td>FORMACAO SUPERIOR COMPLETA</td>\n",
       "      <td>ARUJA</td>\n",
       "      <td>2.0</td>\n",
       "      <td>0.0</td>\n",
       "      <td>3.875</td>\n",
       "      <td>0.000</td>\n",
       "      <td>5.33</td>\n",
       "      <td>5.40</td>\n",
       "      <td>PROGRAMA TRAINEE</td>\n",
       "      <td>JUNIOR/TRAINEE</td>\n",
       "      <td>FORMACAO SUPERIOR (CURSANDO)</td>\n",
       "      <td>None</td>\n",
       "      <td>0</td>\n",
       "    </tr>\n",
       "    <tr>\n",
       "      <th>4149</th>\n",
       "      <td>-5433147389500583028</td>\n",
       "      <td>0.0</td>\n",
       "      <td>CONTA EXECUTIVO PARCERIA</td>\n",
       "      <td>MARKETING</td>\n",
       "      <td>JUNIOR/TRAINEE</td>\n",
       "      <td>FORMACAO SUPERIOR COMPLETA</td>\n",
       "      <td>SAO PAULO</td>\n",
       "      <td>3.0</td>\n",
       "      <td>0.0</td>\n",
       "      <td>7.250</td>\n",
       "      <td>0.000</td>\n",
       "      <td>7.99</td>\n",
       "      <td>6.25</td>\n",
       "      <td>PROGRAMA TRAINEE</td>\n",
       "      <td>JUNIOR/TRAINEE</td>\n",
       "      <td>FORMACAO SUPERIOR (CURSANDO)</td>\n",
       "      <td>None</td>\n",
       "      <td>0</td>\n",
       "    </tr>\n",
       "    <tr>\n",
       "      <th>4150</th>\n",
       "      <td>-5433147389500583028</td>\n",
       "      <td>1890.0</td>\n",
       "      <td>CICLO PDCA</td>\n",
       "      <td>MARKETING</td>\n",
       "      <td>AUXILIAR/OPERACIONAL</td>\n",
       "      <td>POS-GRADUACAO NO NIVEL ESPECIALIZACAO</td>\n",
       "      <td>SAO PAULO</td>\n",
       "      <td>3.0</td>\n",
       "      <td>4.0</td>\n",
       "      <td>5.250</td>\n",
       "      <td>6.375</td>\n",
       "      <td>6.65</td>\n",
       "      <td>7.00</td>\n",
       "      <td>PROGRAMA TRAINEE</td>\n",
       "      <td>JUNIOR/TRAINEE</td>\n",
       "      <td>FORMACAO SUPERIOR (CURSANDO)</td>\n",
       "      <td>None</td>\n",
       "      <td>0</td>\n",
       "    </tr>\n",
       "  </tbody>\n",
       "</table>\n",
       "</div>"
      ],
      "text/plain": [
       "              codigo_vaga  ultimo_salario_candidato  \\\n",
       "4146 -5433147389500583028                       0.0   \n",
       "4147 -5433147389500583028                    1500.0   \n",
       "4148 -5433147389500583028                    2050.0   \n",
       "4149 -5433147389500583028                       0.0   \n",
       "4150 -5433147389500583028                    1890.0   \n",
       "\n",
       "              ultimo_cargo_candidato   area_interesse_candidato  \\\n",
       "4146              INDUSTRIAL TRAINEE         ENGENHARIA QUIMICA   \n",
       "4147  DESENVOLVIMENTO ENGENHEIRO PRO  ADMINISTRACAO DE EMPRESAS   \n",
       "4148       CLIENTE ESTAGIO QUALIDADE     ENGENHARIA DE PRODUCAO   \n",
       "4149        CONTA EXECUTIVO PARCERIA                  MARKETING   \n",
       "4150                      CICLO PDCA                  MARKETING   \n",
       "\n",
       "           nivel_candidato                     formacao_candidato  \\\n",
       "4146        JUNIOR/TRAINEE  POS-GRADUACAO NO NIVEL ESPECIALIZACAO   \n",
       "4147        JUNIOR/TRAINEE             FORMACAO SUPERIOR COMPLETA   \n",
       "4148               ESTAGIO             FORMACAO SUPERIOR COMPLETA   \n",
       "4149        JUNIOR/TRAINEE             FORMACAO SUPERIOR COMPLETA   \n",
       "4150  AUXILIAR/OPERACIONAL  POS-GRADUACAO NO NIVEL ESPECIALIZACAO   \n",
       "\n",
       "     cidade_candidato  nivel_ingles_candidato  nivel_espanhol_candidato  \\\n",
       "4146         SALVADOR                     2.0                       1.0   \n",
       "4147        SAO PAULO                     4.0                       1.0   \n",
       "4148            ARUJA                     2.0                       0.0   \n",
       "4149        SAO PAULO                     3.0                       0.0   \n",
       "4150        SAO PAULO                     3.0                       4.0   \n",
       "\n",
       "      mediana_teste_ingles_candidato  mediana_teste_espanhol_candidato  \\\n",
       "4146                           6.450                             0.000   \n",
       "4147                           8.000                             0.000   \n",
       "4148                           3.875                             0.000   \n",
       "4149                           7.250                             0.000   \n",
       "4150                           5.250                             6.375   \n",
       "\n",
       "      mediana_teste_logica_candidato  mediana_teste_outros_candidato  \\\n",
       "4146                            6.25                            7.00   \n",
       "4147                            7.99                            8.20   \n",
       "4148                            5.33                            5.40   \n",
       "4149                            7.99                            6.25   \n",
       "4150                            6.65                            7.00   \n",
       "\n",
       "            cargo_vaga      nivel_vaga                 formacao_vaga  \\\n",
       "4146  PROGRAMA TRAINEE  JUNIOR/TRAINEE  FORMACAO SUPERIOR (CURSANDO)   \n",
       "4147  PROGRAMA TRAINEE  JUNIOR/TRAINEE  FORMACAO SUPERIOR (CURSANDO)   \n",
       "4148  PROGRAMA TRAINEE  JUNIOR/TRAINEE  FORMACAO SUPERIOR (CURSANDO)   \n",
       "4149  PROGRAMA TRAINEE  JUNIOR/TRAINEE  FORMACAO SUPERIOR (CURSANDO)   \n",
       "4150  PROGRAMA TRAINEE  JUNIOR/TRAINEE  FORMACAO SUPERIOR (CURSANDO)   \n",
       "\n",
       "     cidade_vaga  aprovado_vaga  \n",
       "4146        None              0  \n",
       "4147        None              0  \n",
       "4148        None              0  \n",
       "4149        None              0  \n",
       "4150        None              0  "
      ]
     },
     "execution_count": 2,
     "metadata": {},
     "output_type": "execute_result"
    }
   ],
   "source": [
    "#Carregando a base de dados\n",
    "data = pd.read_pickle(\"base_treinamento_testes.pkl\")\n",
    "data.head()"
   ]
  },
  {
   "cell_type": "code",
   "execution_count": 3,
   "id": "56569a9e-bb3b-47a4-b613-3d8ac16c5ab3",
   "metadata": {},
   "outputs": [
    {
     "data": {
      "text/plain": [
       "(25699, 18)"
      ]
     },
     "execution_count": 3,
     "metadata": {},
     "output_type": "execute_result"
    }
   ],
   "source": [
    "#Obter as dimensões do dataframe\n",
    "data.shape"
   ]
  },
  {
   "cell_type": "code",
   "execution_count": 4,
   "id": "66b80da1-e085-4573-8f67-f81d6170606c",
   "metadata": {},
   "outputs": [
    {
     "data": {
      "text/plain": [
       "113"
      ]
     },
     "execution_count": 4,
     "metadata": {},
     "output_type": "execute_result"
    }
   ],
   "source": [
    "#Verificando linhas duplicadas\n",
    "data.duplicated().sum()"
   ]
  },
  {
   "cell_type": "code",
   "execution_count": 5,
   "id": "bf6fade0-e7a7-4926-8dd5-b95e7a7388c7",
   "metadata": {},
   "outputs": [],
   "source": [
    "#Removendo os dados duplicados\n",
    "data = data.drop_duplicates()"
   ]
  },
  {
   "cell_type": "code",
   "execution_count": 6,
   "id": "1067a1e7-6553-4469-abf6-d94bd0d6a8e2",
   "metadata": {},
   "outputs": [
    {
     "data": {
      "text/plain": [
       "0"
      ]
     },
     "execution_count": 6,
     "metadata": {},
     "output_type": "execute_result"
    }
   ],
   "source": [
    "#Verificando,novamente se há linhas duplicadas\n",
    "data.duplicated().sum()"
   ]
  },
  {
   "cell_type": "code",
   "execution_count": 7,
   "id": "b2f6fd9f-d112-4d1d-b02c-2aa8a717069d",
   "metadata": {},
   "outputs": [
    {
     "data": {
      "text/plain": [
       "codigo_vaga                             0\n",
       "ultimo_salario_candidato                0\n",
       "ultimo_cargo_candidato                  0\n",
       "area_interesse_candidato             3707\n",
       "nivel_candidato                       526\n",
       "formacao_candidato                      0\n",
       "cidade_candidato                        6\n",
       "nivel_ingles_candidato                  0\n",
       "nivel_espanhol_candidato                0\n",
       "mediana_teste_ingles_candidato          0\n",
       "mediana_teste_espanhol_candidato        0\n",
       "mediana_teste_logica_candidato          0\n",
       "mediana_teste_outros_candidato          0\n",
       "cargo_vaga                           3207\n",
       "nivel_vaga                              0\n",
       "formacao_vaga                           0\n",
       "cidade_vaga                         17028\n",
       "aprovado_vaga                           0\n",
       "dtype: int64"
      ]
     },
     "execution_count": 7,
     "metadata": {},
     "output_type": "execute_result"
    }
   ],
   "source": [
    "#Varificando dados nulos no dataset\n",
    "data.isnull().sum()"
   ]
  },
  {
   "cell_type": "code",
   "execution_count": 8,
   "id": "0a42999f-301b-4d8b-bef8-1addd28171db",
   "metadata": {},
   "outputs": [
    {
     "data": {
      "text/plain": [
       "codigo_vaga                         0\n",
       "ultimo_salario_candidato            0\n",
       "ultimo_cargo_candidato              0\n",
       "area_interesse_candidato            0\n",
       "nivel_candidato                     0\n",
       "formacao_candidato                  0\n",
       "cidade_candidato                    0\n",
       "nivel_ingles_candidato              0\n",
       "nivel_espanhol_candidato            0\n",
       "mediana_teste_ingles_candidato      0\n",
       "mediana_teste_espanhol_candidato    0\n",
       "mediana_teste_logica_candidato      0\n",
       "mediana_teste_outros_candidato      0\n",
       "cargo_vaga                          0\n",
       "nivel_vaga                          0\n",
       "formacao_vaga                       0\n",
       "cidade_vaga                         0\n",
       "aprovado_vaga                       0\n",
       "dtype: int64"
      ]
     },
     "execution_count": 8,
     "metadata": {},
     "output_type": "execute_result"
    }
   ],
   "source": [
    "#Eliminadas todas as linhas relativas à celula contendo o valor ausente\n",
    "data1 = data.dropna(axis=0)\n",
    "data1.isnull().sum()"
   ]
  },
  {
   "cell_type": "code",
   "execution_count": 9,
   "id": "8cbac3a5-4484-403c-9655-3a93e0a6a746",
   "metadata": {},
   "outputs": [
    {
     "data": {
      "text/plain": [
       "(array([0, 1], dtype=int64), array([4406,  430], dtype=int64))"
      ]
     },
     "execution_count": 9,
     "metadata": {},
     "output_type": "execute_result"
    }
   ],
   "source": [
    "#Contagem da quantidade de registros que temos em cada uma das classes\n",
    "np.unique(data1['aprovado_vaga'], return_counts = True)"
   ]
  },
  {
   "cell_type": "code",
   "execution_count": 10,
   "id": "120c3c9e-1b3d-400e-849b-27ffbafebdc0",
   "metadata": {},
   "outputs": [
    {
     "data": {
      "text/plain": [
       "0    90.17\n",
       "1     9.83\n",
       "Name: aprovado_vaga, dtype: float64"
      ]
     },
     "execution_count": 10,
     "metadata": {},
     "output_type": "execute_result"
    }
   ],
   "source": [
    "#Porcentagem da quantidade de registros que temos em cada uma das classes\n",
    "round(data['aprovado_vaga'].value_counts(normalize=True)*100,2)"
   ]
  },
  {
   "cell_type": "code",
   "execution_count": 11,
   "id": "0171e00b-b0cf-4a91-bcfe-61ea305eca25",
   "metadata": {},
   "outputs": [
    {
     "data": {
      "image/png": "[encoded data removed]",
      "text/plain": [
       "<Figure size 640x480 with 1 Axes>"
      ]
     },
     "metadata": {},
     "output_type": "display_data"
    }
   ],
   "source": [
    "#Representação gráfica das classes\n",
    "import seaborn as sns\n",
    "\n",
    "sns.countplot(x = data1[\"aprovado_vaga\"]);"
   ]
  },
  {
   "cell_type": "code",
   "execution_count": null,
   "id": "f6fc8911-5a65-4bf3-af1b-a992eea79dee",
   "metadata": {},
   "outputs": [],
   "source": [
    "#O valor 1 é relativo a candidatos que foram aprovados e o valor 0 (zero) a candidatos não aprovados\n",
    "#Perceba que temos uma base de dados desbalanceada. Em que a quantidade de registro de uma classe é maior que a outra"
   ]
  },
  {
   "cell_type": "code",
   "execution_count": 12,
   "id": "e18b530b-414b-4977-ba24-22fd8a6cef2b",
   "metadata": {},
   "outputs": [
    {
     "name": "stdout",
     "output_type": "stream",
     "text": [
      "<class 'pandas.core.frame.DataFrame'>\n",
      "Int64Index: 4836 entries, 8362 to 47879\n",
      "Data columns (total 18 columns):\n",
      " #   Column                            Non-Null Count  Dtype  \n",
      "---  ------                            --------------  -----  \n",
      " 0   codigo_vaga                       4836 non-null   int64  \n",
      " 1   ultimo_salario_candidato          4836 non-null   float64\n",
      " 2   ultimo_cargo_candidato            4836 non-null   object \n",
      " 3   area_interesse_candidato          4836 non-null   object \n",
      " 4   nivel_candidato                   4836 non-null   object \n",
      " 5   formacao_candidato                4836 non-null   object \n",
      " 6   cidade_candidato                  4836 non-null   object \n",
      " 7   nivel_ingles_candidato            4836 non-null   float64\n",
      " 8   nivel_espanhol_candidato          4836 non-null   float64\n",
      " 9   mediana_teste_ingles_candidato    4836 non-null   float64\n",
      " 10  mediana_teste_espanhol_candidato  4836 non-null   float64\n",
      " 11  mediana_teste_logica_candidato    4836 non-null   float64\n",
      " 12  mediana_teste_outros_candidato    4836 non-null   float64\n",
      " 13  cargo_vaga                        4836 non-null   object \n",
      " 14  nivel_vaga                        4836 non-null   object \n",
      " 15  formacao_vaga                     4836 non-null   object \n",
      " 16  cidade_vaga                       4836 non-null   object \n",
      " 17  aprovado_vaga                     4836 non-null   int64  \n",
      "dtypes: float64(7), int64(2), object(9)\n",
      "memory usage: 717.8+ KB\n"
     ]
    }
   ],
   "source": [
    "#Imprime informações sobre um DataFrame, incluindo o tipo de índice e colunas, valores não nulos e uso de memória.\n",
    "data1.info()"
   ]
  },
  {
   "cell_type": "code",
   "execution_count": 16,
   "id": "125dc0ed-50db-4054-a659-3d26ca01de90",
   "metadata": {},
   "outputs": [
    {
     "data": {
      "text/html": [
       "<div>\n",
       "<style scoped>\n",
       "    .dataframe tbody tr th:only-of-type {\n",
       "        vertical-align: middle;\n",
       "    }\n",
       "\n",
       "    .dataframe tbody tr th {\n",
       "        vertical-align: top;\n",
       "    }\n",
       "\n",
       "    .dataframe thead th {\n",
       "        text-align: right;\n",
       "    }\n",
       "</style>\n",
       "<table border=\"1\" class=\"dataframe\">\n",
       "  <thead>\n",
       "    <tr style=\"text-align: right;\">\n",
       "      <th></th>\n",
       "      <th>nivel_ingles_candidato</th>\n",
       "      <th>nivel_espanhol_candidato</th>\n",
       "      <th>mediana_teste_ingles_candidato</th>\n",
       "      <th>mediana_teste_espanhol_candidato</th>\n",
       "      <th>mediana_teste_logica_candidato</th>\n",
       "      <th>mediana_teste_outros_candidato</th>\n",
       "    </tr>\n",
       "  </thead>\n",
       "  <tbody>\n",
       "    <tr>\n",
       "      <th>8362</th>\n",
       "      <td>4.0</td>\n",
       "      <td>4.0</td>\n",
       "      <td>7.980</td>\n",
       "      <td>8.5</td>\n",
       "      <td>8.335</td>\n",
       "      <td>7.95</td>\n",
       "    </tr>\n",
       "    <tr>\n",
       "      <th>8363</th>\n",
       "      <td>3.0</td>\n",
       "      <td>4.0</td>\n",
       "      <td>6.330</td>\n",
       "      <td>0.0</td>\n",
       "      <td>7.200</td>\n",
       "      <td>4.90</td>\n",
       "    </tr>\n",
       "    <tr>\n",
       "      <th>8364</th>\n",
       "      <td>3.0</td>\n",
       "      <td>1.0</td>\n",
       "      <td>6.000</td>\n",
       "      <td>0.0</td>\n",
       "      <td>8.660</td>\n",
       "      <td>8.20</td>\n",
       "    </tr>\n",
       "    <tr>\n",
       "      <th>8365</th>\n",
       "      <td>3.0</td>\n",
       "      <td>1.0</td>\n",
       "      <td>5.970</td>\n",
       "      <td>5.0</td>\n",
       "      <td>5.750</td>\n",
       "      <td>4.00</td>\n",
       "    </tr>\n",
       "    <tr>\n",
       "      <th>8366</th>\n",
       "      <td>4.0</td>\n",
       "      <td>0.0</td>\n",
       "      <td>8.125</td>\n",
       "      <td>0.0</td>\n",
       "      <td>6.650</td>\n",
       "      <td>6.00</td>\n",
       "    </tr>\n",
       "  </tbody>\n",
       "</table>\n",
       "</div>"
      ],
      "text/plain": [
       "      nivel_ingles_candidato  nivel_espanhol_candidato  \\\n",
       "8362                     4.0                       4.0   \n",
       "8363                     3.0                       4.0   \n",
       "8364                     3.0                       1.0   \n",
       "8365                     3.0                       1.0   \n",
       "8366                     4.0                       0.0   \n",
       "\n",
       "      mediana_teste_ingles_candidato  mediana_teste_espanhol_candidato  \\\n",
       "8362                           7.980                               8.5   \n",
       "8363                           6.330                               0.0   \n",
       "8364                           6.000                               0.0   \n",
       "8365                           5.970                               5.0   \n",
       "8366                           8.125                               0.0   \n",
       "\n",
       "      mediana_teste_logica_candidato  mediana_teste_outros_candidato  \n",
       "8362                           8.335                            7.95  \n",
       "8363                           7.200                            4.90  \n",
       "8364                           8.660                            8.20  \n",
       "8365                           5.750                            4.00  \n",
       "8366                           6.650                            6.00  "
      ]
     },
     "execution_count": 16,
     "metadata": {},
     "output_type": "execute_result"
    }
   ],
   "source": [
    "#Divisão entre previsores e classes\n",
    "X_data = data1.iloc[:, 7:13]\n",
    "X_data.head()"
   ]
  },
  {
   "cell_type": "code",
   "execution_count": 17,
   "id": "419c4416-52ba-453c-a1b4-7c4d03a201be",
   "metadata": {},
   "outputs": [
    {
     "data": {
      "text/plain": [
       "8362    1\n",
       "8363    0\n",
       "8364    0\n",
       "8365    0\n",
       "8366    0\n",
       "Name: aprovado_vaga, dtype: int64"
      ]
     },
     "execution_count": 17,
     "metadata": {},
     "output_type": "execute_result"
    }
   ],
   "source": [
    "y_data = data1.iloc[:,17]\n",
    "y_data.head()"
   ]
  },
  {
   "cell_type": "code",
   "execution_count": 23,
   "id": "4dbc855b-37e0-4858-892d-608dc06cb49e",
   "metadata": {},
   "outputs": [],
   "source": [
    "#Separando a base de dados utilizando a técnica hold-out\n",
    "from sklearn.model_selection import train_test_split\n",
    "X_train, X_test, y_train, y_test = train_test_split(X_data, y_data, test_size = 0.3, random_state = 42)\n"
   ]
  },
  {
   "cell_type": "code",
   "execution_count": 29,
   "id": "6b77017f-f1da-4260-9eed-4a0d45c31cde",
   "metadata": {},
   "outputs": [],
   "source": [
    "#Acerto o desiquilibrio da base de dados utilizando a técnica oversampling\n",
    "from imblearn.over_sampling import SMOTE\n",
    "\n",
    "#resamplig precisa ser feito apenas no conjunto de dados de treinamento\n",
    "smote = SMOTE(sampling_strategy = \"minority\", random_state = 42)\n",
    "X_train_resampling, y_train_resampling = smote.fit_resample(X_train, y_train)"
   ]
  },
  {
   "cell_type": "code",
   "execution_count": 31,
   "id": "9077ebca-c25c-491b-9465-97dbd8a0d73e",
   "metadata": {},
   "outputs": [
    {
     "name": "stdout",
     "output_type": "stream",
     "text": [
      "              precision    recall  f1-score   support\n",
      "\n",
      "           0       0.92      0.94      0.93      1321\n",
      "           1       0.15      0.12      0.13       130\n",
      "\n",
      "    accuracy                           0.86      1451\n",
      "   macro avg       0.53      0.53      0.53      1451\n",
      "weighted avg       0.85      0.86      0.85      1451\n",
      "\n",
      "0.8635423845623708\n"
     ]
    }
   ],
   "source": [
    "from sklearn.linear_model import SGDClassifier\n",
    "\n",
    "sgdc = SGDClassifier()\n",
    "sgdc.fit(X_train_resampling, y_train_resampling)\n",
    "pred = sgdc.predict(X_test)\n",
    "\n",
    "from sklearn.metrics import classification_report, accuracy_score\n",
    "print(classification_report(y_test, pred))\n",
    "print(accuracy_score(y_test, pred))"
   ]
  },
  {
   "cell_type": "code",
   "execution_count": 40,
   "id": "2cd5e879-ef7d-450b-aae3-50f5fbee2bde",
   "metadata": {},
   "outputs": [
    {
     "data": {
      "text/plain": [
       "array([[1238,   83],\n",
       "       [ 115,   15]], dtype=int64)"
      ]
     },
     "execution_count": 40,
     "metadata": {},
     "output_type": "execute_result"
    }
   ],
   "source": [
    "from sklearn.metrics import confusion_matrix\n",
    "\n",
    "# Matriz de confusão\n",
    "cf_matrix = confusion_matrix(y_test, pred)\n",
    "cf_matrix"
   ]
  },
  {
   "cell_type": "code",
   "execution_count": 41,
   "id": "450541a2-1b24-4611-9fed-34acb439c5dc",
   "metadata": {},
   "outputs": [
    {
     "data": {
      "image/png": "[encoded data removed]",
      "text/plain": [
       "<Figure size 500x500 with 2 Axes>"
      ]
     },
     "metadata": {},
     "output_type": "display_data"
    }
   ],
   "source": [
    "import matplotlib.pyplot as plt\n",
    "\n",
    "fig, (ax1) = plt.subplots(ncols=1, figsize=(5,5))\n",
    "sns.heatmap(cf_matrix, \n",
    "            xticklabels=['Não Aprovado', 'Aprovado'],\n",
    "            yticklabels=['Não Aprovado', 'Aprovado'],\n",
    "            fmt='d',\n",
    "            annot=True,\n",
    "            ax = ax1,\n",
    "            linewidths=.2,\n",
    "            linecolor=\"Darkblue\",\n",
    "            cmap=\"Blues\")\n",
    "\n",
    "plt.title('Matriz Confusão', fontsize=14)\n",
    "plt.show()"
   ]
  },
  {
   "cell_type": "code",
   "execution_count": 38,
   "id": "1d78ecbc-47ff-45f6-b7ae-08ee21453825",
   "metadata": {},
   "outputs": [
    {
     "data": {
      "text/plain": [
       "['modelo.pkl']"
      ]
     },
     "execution_count": 38,
     "metadata": {},
     "output_type": "execute_result"
    }
   ],
   "source": [
    "#\n",
    "import joblib\n",
    "joblib.dump(sgdc, \"modelo.pkl\")"
   ]
  },
  {
   "cell_type": "code",
   "execution_count": null,
   "id": "b3b3321b-f7bd-475f-8499-d937f5129045",
   "metadata": {},
   "outputs": [],
   "source": []
  }
 ],
 "metadata": {
  "kernelspec": {
   "display_name": "Python 3 (ipykernel)",
   "language": "python",
   "name": "python3"
  },
  "language_info": {
   "codemirror_mode": {
    "name": "ipython",
    "version": 3
   },
   "file_extension": ".py",
   "mimetype": "text/x-python",
   "name": "python",
   "nbconvert_exporter": "python",
   "pygments_lexer": "ipython3",
   "version": "3.9.18"
  }
 },
 "nbformat": 4,
 "nbformat_minor": 5
}
